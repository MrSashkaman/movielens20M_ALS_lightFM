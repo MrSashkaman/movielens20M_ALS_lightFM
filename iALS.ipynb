{
 "cells": [
  {
   "cell_type": "code",
   "execution_count": 1,
   "id": "f50efb00-3662-46a0-9d85-17f1d52805f6",
   "metadata": {},
   "outputs": [],
   "source": [
    "import os\n",
    "import pandas as pd\n",
    "import numpy as np\n",
    "import scipy.sparse as sparse\n",
    "import random\n",
    "import implicit \n",
    "import matplotlib.pyplot as plt\n",
    "import datetime\n",
    "import random\n",
    "\n",
    "os.environ['MKL_NUM_THREADS'] = '1'"
   ]
  },
  {
   "cell_type": "code",
   "execution_count": 2,
   "id": "c12827be-fb2b-4c8a-b0c6-f14d7edb97dc",
   "metadata": {},
   "outputs": [],
   "source": [
    "data_train = pd.read_csv('rand_train_30.csv')\n",
    "data_test = pd.read_csv('rand_test_30.csv')\n",
    "\n",
    "\n",
    "data_test = data_test.sort_values(by=['userId','timestamp'])\n",
    "data_test = data_test[['userId', 'movieId']].groupby(by=['userId']).agg(lambda x:list(x))\n",
    "\n",
    "data_test = data_test.movieId"
   ]
  },
  {
   "cell_type": "markdown",
   "id": "702c7063-6e15-47ce-9f0b-fc6938600db1",
   "metadata": {
    "tags": []
   },
   "source": [
    "# Бейзлайн"
   ]
  },
  {
   "cell_type": "markdown",
   "id": "6e5db360-55c6-42ab-beed-250c0c5924b4",
   "metadata": {},
   "source": [
    "Построим бейзлайн-модель самым простым образом, будем рекомендовать каждому пользователю топ 20 самых популярных фильмов, которые он еще не видел"
   ]
  },
  {
   "cell_type": "code",
   "execution_count": 3,
   "id": "8b629560-a040-4fad-8f9a-064cf8df496e",
   "metadata": {},
   "outputs": [],
   "source": [
    "def baseline_method(data_train, data_test):\n",
    "    \n",
    "    data_train = data_train.sort_values(by=['movieId'])\n",
    "    mean_ratings = pd.DataFrame(list(data_train[['movieId', 'rating']].groupby(by=['movieId']).agg('mean').rating))\n",
    "    mean_ratings['movieId'] =  data_train['movieId'].sort_values(ascending=False)\n",
    "    mean_ratings['views'] = list(data_train.groupby(by=['movieId']).size())\n",
    "\n",
    "    mean_ratings = mean_ratings.rename(columns={0:'rating'})\n",
    "    mean_ratings = mean_ratings.sort_values(by=['views','rating'], ascending=[False, False])\n",
    "    uniq_users = sorted(list(set(data_train['userId'])))\n",
    "    \n",
    "    cnt_uniq_users = len(uniq_users)\n",
    "    \n",
    "    \n",
    "    list_recommendations = []\n",
    "    i = 0\n",
    "    for user_n in uniq_users:\n",
    "        if (i % (cnt_uniq_users // 10) == 0) and (i != 0):\n",
    "            print(f'Рекомендации готовы для {round((i / cnt_uniq_users) * 100)}% пользователей')\n",
    "        movies_to_recommend = list(mean_ratings[mean_ratings.movieId.isin(data_train[data_train.userId == user_n]['movieId'].unique()) == False][0:20].movieId)\n",
    "        list_recommendations.append(tuple([user_n, movies_to_recommend]))\n",
    "        i += 1\n",
    "        \n",
    "    return list_recommendations"
   ]
  },
  {
   "cell_type": "code",
   "execution_count": 4,
   "id": "aef95308-81f2-43f0-9cda-949da2edb618",
   "metadata": {
    "tags": []
   },
   "outputs": [
    {
     "name": "stdout",
     "output_type": "stream",
     "text": [
      "Рекомендации готовы для 10% пользователей\n",
      "Рекомендации готовы для 20% пользователей\n",
      "Рекомендации готовы для 30% пользователей\n",
      "Рекомендации готовы для 40% пользователей\n",
      "Рекомендации готовы для 50% пользователей\n",
      "Рекомендации готовы для 60% пользователей\n",
      "Рекомендации готовы для 70% пользователей\n",
      "Рекомендации готовы для 80% пользователей\n",
      "Рекомендации готовы для 90% пользователей\n",
      "Рекомендации готовы для 100% пользователей\n",
      "Wall time: 13min 15s\n"
     ]
    }
   ],
   "source": [
    "%%time\n",
    "baseline_recommendations = baseline_method(data_train, data_test)\n",
    "\n",
    "#бейзлайн рекомендации записываются в отдельный файл, чтобы повторно не запускать функцию\n",
    "recs = pd.DataFrame()\n",
    "recs['userId'] = uniq_users = sorted(list(data_train.userId.unique()))\n",
    "list_recommends = [x[1] for x in baseline_recommendations]\n",
    "recs['recommendations'] = list_recommends\n",
    "recs.to_csv('baseline_recommendations_30.csv',sep=',', index=False)"
   ]
  },
  {
   "cell_type": "markdown",
   "id": "3b899770-556c-456a-b378-f4e65ebab56b",
   "metadata": {
    "tags": []
   },
   "source": [
    "## Метрика nDCG@20 для бейзлайн рекомендаций"
   ]
  },
  {
   "cell_type": "code",
   "execution_count": 5,
   "id": "b6b4a7a2-4584-4f93-a1e7-cc5b0a14116c",
   "metadata": {},
   "outputs": [],
   "source": [
    "## функции для подсчета метрики\n",
    "def dcg(y_relevance: np.ndarray) -> float:\n",
    "    return np.sum([(2**i - 1) / np.log2(k + 1) for (k, i) in enumerate(y_relevance, start=1)])\n",
    "\n",
    "def ndcg(y_relevance: np.ndarray, k: int) -> float:\n",
    "    \n",
    "    if y_relevance.sum() == 0:\n",
    "        return 0.0\n",
    "    \n",
    "    DCG = dcg(y_relevance[:k])\n",
    "    IDCG = dcg(-np.sort(-y_relevance)[:k])\n",
    "    return DCG / IDCG\n",
    "\n",
    "\n",
    "def calc_ndcg(data_test, list_recommends, k=20):\n",
    "    \n",
    "    full_dcg_list = []\n",
    "    j = 0\n",
    "    for user, recom in list_recommends:\n",
    "\n",
    "        dcg_list = []\n",
    "        for rec in recom:\n",
    "            if rec in data_test.loc[user]:\n",
    "                dcg_list.append(1)\n",
    "            else:\n",
    "                dcg_list.append(0)\n",
    "        full_dcg_list.append(dcg_list)\n",
    "    \n",
    "            \n",
    "    ndcgs_list = []\n",
    "    for nd in full_dcg_list:\n",
    "        ndcgs_list.append(ndcg(np.array(nd), k))\n",
    "    mean_ndcgs = np.mean(ndcgs_list)\n",
    "    \n",
    "    return mean_ndcgs"
   ]
  },
  {
   "cell_type": "code",
   "execution_count": 6,
   "id": "188c1876-6a58-4a03-aa70-7c4d36e3c903",
   "metadata": {},
   "outputs": [
    {
     "name": "stdout",
     "output_type": "stream",
     "text": [
      "Wall time: 1min 5s\n"
     ]
    },
    {
     "data": {
      "text/plain": [
       "0.13116933649585474"
      ]
     },
     "execution_count": 6,
     "metadata": {},
     "output_type": "execute_result"
    }
   ],
   "source": [
    "%%time\n",
    "list_recommends = pd.read_csv('baseline_recommendations_30.csv', converters={'recommendations': pd.eval})\n",
    "list_recommends = list(zip(list(list_recommends.userId),list(list_recommends.recommendations)))\n",
    "calc_ndcg(data_test, list_recommends, k=20)"
   ]
  },
  {
   "cell_type": "markdown",
   "id": "224ff4f6-a64b-47e2-a4fc-e78cd9827e5f",
   "metadata": {},
   "source": [
    "Метрика nDCG@20 для бейзлайна на тесте составила 0.131"
   ]
  },
  {
   "cell_type": "markdown",
   "id": "37ef21b1-5016-476e-8a82-e8874eab9ca1",
   "metadata": {
    "tags": []
   },
   "source": [
    "# Implicit ALS"
   ]
  },
  {
   "cell_type": "markdown",
   "id": "391d32fb-79f7-4a78-885f-0c419856170c",
   "metadata": {},
   "source": [
    "Для подбора гиперпараметров используется следующая стретегия кросс-валидации: для каждого набора признаков модели из data_train выбираются по 5 рандомных фильмов для каждого пользователя, они отправляются во внутренний тест, на остальных данных модель обучается. Хоть мне и удалось реализовать функцию подсчета метрики, но подсчет метрики для каждого из пользователей занимает время, поэтому берется процент от всех пользователей, эти пользователи случайным образом выбираются и для них уже считается метрика, как показали проверки, разница между такой оценкой метрики и реальным значением присутствует лишь в третьем знаке после запятой.\n",
    "P.S. Используется 2 фолда, то есть два случайных разбиения."
   ]
  },
  {
   "cell_type": "code",
   "execution_count": 7,
   "id": "7832cd68-2f4b-4dd4-be3f-5652b29fb569",
   "metadata": {},
   "outputs": [],
   "source": [
    "def user_movies_to_dict(data_train, data_test):\n",
    "    '''\n",
    "    Функция для созданий словаря пользователей\n",
    "    '''\n",
    "    \n",
    "    user_dict = {}\n",
    "    movie_dict = {}\n",
    "    i = 0\n",
    "    users = sorted(list(set(data_train['userId'].values)))\n",
    "    for i in range(len(users)):\n",
    "        user_dict[i] = users[i]\n",
    "        i += 1\n",
    "        \n",
    "    return user_dict\n",
    "\n",
    "\n",
    "random.seed(10)\n",
    "def train_ALS(data_train, factor, reg, iters, user_dict,  rand_state=0):\n",
    "    \n",
    "    '''\n",
    "    Функция которая обучает модель implicitALS,\n",
    "    в соответсвии с заданными параметрами\n",
    "    Возвращает обученную модель и разреженную матрицу\n",
    "    sparse_user_item, которая используется для построения \n",
    "    рекомендаций\n",
    "    \n",
    "    '''\n",
    "    \n",
    "    sparse_user_item = sparse.csr_matrix((data_train['rating'].astype(float),\n",
    "                                          (data_train['userId'],\n",
    "                                           data_train['movieId'])))\n",
    "\n",
    "    sparse_item_user = sparse.csr_matrix((data_train['rating'].astype(float),\n",
    "                                          (data_train['movieId'],\n",
    "                                           data_train['userId'])))\n",
    "    \n",
    "    model = implicit.als.AlternatingLeastSquares(factors=factor, regularization=reg, iterations=iters,\n",
    "                                             num_threads=4, random_state=1)\n",
    "    alpha_val = 40\n",
    "    data_conf = (sparse_item_user * alpha_val).astype('double')\n",
    "    model.fit(data_conf)\n",
    "    \n",
    "    \n",
    "    \n",
    "    return model, sparse_user_item\n",
    "\n",
    "def test_score(model, data_train, data_test, sparse_user_item, percent_to_test=10):\n",
    "  \n",
    "    \n",
    "    list_recommends = []\n",
    "    \n",
    "    list_users = list(data_test.index)\n",
    "    len_users = len(list_users)\n",
    "    \n",
    "    for i in range(0, round((len(data_test) / 100) * percent_to_test)):  \n",
    "        #юзеров для оценки каждый раз выбираем рандомно\n",
    "        if percent_to_test < 100:\n",
    "            new_user = random.choice(list_users)\n",
    "        else:\n",
    "            new_user = list_users[i]\n",
    "        \n",
    "        recommended = model.recommend(new_user, sparse_user_item, filter_already_liked_items=True, N=20)\n",
    "        \n",
    "        recs = list(map(lambda x:x[0], recommended))\n",
    "        list_recommends.append(tuple([new_user, recs]))\n",
    "    \n",
    "        if (i % (len_users // 10) == 0) and (i != 0):\n",
    "            print(f'Рекомендации для {round((i / len_users) * 100)} % пользователей посчитаны')\n",
    "        \n",
    "    ndcg_score = calc_ndcg(data_test, list_recommends, k=20)\n",
    "    \n",
    "    return ndcg_score\n",
    "\n",
    "def tuning_model(full_data, factor, reg, iters, percent_to_test, data_test, rand_state=0):\n",
    "\n",
    "    \n",
    "    data_test = full_data.groupby(by='userId').sample(n=20, random_state=rand_state)\n",
    "    \n",
    "    data_train = full_data.merge(data_test, how='left', on=['timestamp', 'userId','movieId'])\n",
    "    data_train = data_train[(data_train.rating_x > 0) \n",
    "                            & ((data_train.rating_y > 0)==False)].drop(['rating_y'], axis=1).rename(columns={'rating_x':'rating'})\n",
    "    \n",
    "    data_test = data_test.sort_values(by=['userId','timestamp'])\n",
    "    data_test = data_test[['userId', 'movieId']].groupby(by=['userId']).agg(lambda x:list(x))\n",
    "\n",
    "    data_test = data_test.movieId\n",
    "    \n",
    "    model, sparse_user_item = train_ALS(data_train, factor, reg, iters, percent_to_test)\n",
    "    \n",
    "    \n",
    "    ndcg_score = test_score(model, data_train, data_test, sparse_user_item, percent_to_test=percent_to_test)\n",
    "\n",
    "    return model, ndcg_score\n",
    "\n",
    "\n",
    "def cross_val_score(iterations_list, regularizations_list, factors_list, percent_to_test, data_test, folds=2):\n",
    "    random_state = 1\n",
    "\n",
    "    dict_score = {}\n",
    "    \n",
    "    for iters in iterations_list:\n",
    "        dict_score[iters] = {}\n",
    "    \n",
    "        for reg in regularizations_list:\n",
    "            dict_score[iters][reg] = {}\n",
    "        \n",
    "            for factors in factors_list:\n",
    "                dict_score[iters][reg][factors] = 0\n",
    "                score_list = []\n",
    "            \n",
    "                for ii in range(folds):\n",
    "                    now = datetime.datetime.now()\n",
    "                    print(f'{now.hour}:{now.minute}:{now.second} factors: {factors}, regularization: {reg}, Iterations: {iters}  [{ii + 1}/{folds}]')\n",
    "                    nd_score = tuning_model(data_train, factors, reg, iters, percent_to_test, data_test=data_test, rand_state=ii)[1]\n",
    "                    print(f'nDCG@20 = {nd_score}')\n",
    "                                            \n",
    "                    score_list.append(nd_score)\n",
    "                    \n",
    "                    random_state += 1\n",
    "                \n",
    "                dict_score[iters][reg][factors] = np.mean(score_list)\n",
    "                print(f'Среднее nDCG@20 по фолдам = {np.mean(score_list)}')\n",
    "                \n",
    "    return dict_score"
   ]
  },
  {
   "cell_type": "code",
   "execution_count": 8,
   "id": "5a60beb0-fbd1-4145-bed1-939a36ec4778",
   "metadata": {},
   "outputs": [
    {
     "name": "stdout",
     "output_type": "stream",
     "text": [
      "Wall time: 1.3 s\n"
     ]
    }
   ],
   "source": [
    "%%time\n",
    "#словари для юзеров и фильмов\n",
    "user_dict = user_movies_to_dict(data_train, data_test)"
   ]
  },
  {
   "cell_type": "markdown",
   "id": "09c43642-e088-440c-99ca-cccf392676fe",
   "metadata": {
    "tags": []
   },
   "source": [
    "### Тюнинг модели"
   ]
  },
  {
   "cell_type": "code",
   "execution_count": 9,
   "id": "f6cd785c-5649-4e93-bc0e-b9e89fdc6a90",
   "metadata": {
    "collapsed": true,
    "jupyter": {
     "outputs_hidden": true
    },
    "tags": []
   },
   "outputs": [
    {
     "name": "stdout",
     "output_type": "stream",
     "text": [
      "18:56:23 factors: 40, regularization: 0.5, Iterations: 20  [1/2]\n"
     ]
    },
    {
     "data": {
      "application/vnd.jupyter.widget-view+json": {
       "model_id": "3ef0282cd2784933ace2ce2102ae1f6a",
       "version_major": 2,
       "version_minor": 0
      },
      "text/plain": [
       "  0%|          | 0/20 [00:00<?, ?it/s]"
      ]
     },
     "metadata": {},
     "output_type": "display_data"
    },
    {
     "name": "stdout",
     "output_type": "stream",
     "text": [
      "nDCG@20 = 0.3325598101231601\n",
      "18:58:42 factors: 40, regularization: 0.5, Iterations: 20  [2/2]\n"
     ]
    },
    {
     "data": {
      "application/vnd.jupyter.widget-view+json": {
       "model_id": "8f7d74bc9883453692b2c79a27f14bd5",
       "version_major": 2,
       "version_minor": 0
      },
      "text/plain": [
       "  0%|          | 0/20 [00:00<?, ?it/s]"
      ]
     },
     "metadata": {},
     "output_type": "display_data"
    },
    {
     "name": "stdout",
     "output_type": "stream",
     "text": [
      "nDCG@20 = 0.32910620454594697\n",
      "Среднее nDCG@20 по фолдам = 0.33083300733455356\n",
      "19:1:3 factors: 70, regularization: 0.5, Iterations: 20  [1/2]\n"
     ]
    },
    {
     "data": {
      "application/vnd.jupyter.widget-view+json": {
       "model_id": "3a912ffd92fc403382850dddc728a9cb",
       "version_major": 2,
       "version_minor": 0
      },
      "text/plain": [
       "  0%|          | 0/20 [00:00<?, ?it/s]"
      ]
     },
     "metadata": {},
     "output_type": "display_data"
    },
    {
     "name": "stdout",
     "output_type": "stream",
     "text": [
      "nDCG@20 = 0.3159660282286077\n",
      "19:3:44 factors: 70, regularization: 0.5, Iterations: 20  [2/2]\n"
     ]
    },
    {
     "data": {
      "application/vnd.jupyter.widget-view+json": {
       "model_id": "3164d74a89f5456e97dc15ec882d1764",
       "version_major": 2,
       "version_minor": 0
      },
      "text/plain": [
       "  0%|          | 0/20 [00:00<?, ?it/s]"
      ]
     },
     "metadata": {},
     "output_type": "display_data"
    },
    {
     "name": "stdout",
     "output_type": "stream",
     "text": [
      "nDCG@20 = 0.3296529390697932\n",
      "Среднее nDCG@20 по фолдам = 0.3228094836492005\n",
      "19:6:32 factors: 40, regularization: 0.7, Iterations: 20  [1/2]\n"
     ]
    },
    {
     "data": {
      "application/vnd.jupyter.widget-view+json": {
       "model_id": "70622317ad454b55a7e79815cfee6b37",
       "version_major": 2,
       "version_minor": 0
      },
      "text/plain": [
       "  0%|          | 0/20 [00:00<?, ?it/s]"
      ]
     },
     "metadata": {},
     "output_type": "display_data"
    },
    {
     "name": "stdout",
     "output_type": "stream",
     "text": [
      "nDCG@20 = 0.33423654780975653\n",
      "19:8:53 factors: 40, regularization: 0.7, Iterations: 20  [2/2]\n"
     ]
    },
    {
     "data": {
      "application/vnd.jupyter.widget-view+json": {
       "model_id": "88b67b2ffbd045caa7d05f6bbfb01a5f",
       "version_major": 2,
       "version_minor": 0
      },
      "text/plain": [
       "  0%|          | 0/20 [00:00<?, ?it/s]"
      ]
     },
     "metadata": {},
     "output_type": "display_data"
    },
    {
     "name": "stdout",
     "output_type": "stream",
     "text": [
      "nDCG@20 = 0.3397531439267148\n",
      "Среднее nDCG@20 по фолдам = 0.3369948458682357\n",
      "19:11:8 factors: 70, regularization: 0.7, Iterations: 20  [1/2]\n"
     ]
    },
    {
     "data": {
      "application/vnd.jupyter.widget-view+json": {
       "model_id": "88097e7e26ab4788a43e0dd547f145dc",
       "version_major": 2,
       "version_minor": 0
      },
      "text/plain": [
       "  0%|          | 0/20 [00:00<?, ?it/s]"
      ]
     },
     "metadata": {},
     "output_type": "display_data"
    },
    {
     "name": "stdout",
     "output_type": "stream",
     "text": [
      "nDCG@20 = 0.32676660129839713\n",
      "19:13:54 factors: 70, regularization: 0.7, Iterations: 20  [2/2]\n"
     ]
    },
    {
     "data": {
      "application/vnd.jupyter.widget-view+json": {
       "model_id": "f478cb99fd5e4238a8938d0b665519e9",
       "version_major": 2,
       "version_minor": 0
      },
      "text/plain": [
       "  0%|          | 0/20 [00:00<?, ?it/s]"
      ]
     },
     "metadata": {},
     "output_type": "display_data"
    },
    {
     "name": "stdout",
     "output_type": "stream",
     "text": [
      "nDCG@20 = 0.32584042599201024\n",
      "Среднее nDCG@20 по фолдам = 0.3263035136452037\n",
      "19:16:40 factors: 40, regularization: 0.5, Iterations: 40  [1/2]\n"
     ]
    },
    {
     "data": {
      "application/vnd.jupyter.widget-view+json": {
       "model_id": "1f02a180a4224cde905f66c1a4d29f6b",
       "version_major": 2,
       "version_minor": 0
      },
      "text/plain": [
       "  0%|          | 0/40 [00:00<?, ?it/s]"
      ]
     },
     "metadata": {},
     "output_type": "display_data"
    },
    {
     "name": "stdout",
     "output_type": "stream",
     "text": [
      "nDCG@20 = 0.3322137331931823\n",
      "19:20:30 factors: 40, regularization: 0.5, Iterations: 40  [2/2]\n"
     ]
    },
    {
     "data": {
      "application/vnd.jupyter.widget-view+json": {
       "model_id": "b94e3231b6724c3f91ea9f23c3c3ed94",
       "version_major": 2,
       "version_minor": 0
      },
      "text/plain": [
       "  0%|          | 0/40 [00:00<?, ?it/s]"
      ]
     },
     "metadata": {},
     "output_type": "display_data"
    },
    {
     "name": "stdout",
     "output_type": "stream",
     "text": [
      "nDCG@20 = 0.3296425071997206\n",
      "Среднее nDCG@20 по фолдам = 0.33092812019645146\n",
      "19:24:31 factors: 70, regularization: 0.5, Iterations: 40  [1/2]\n"
     ]
    },
    {
     "data": {
      "application/vnd.jupyter.widget-view+json": {
       "model_id": "7f988d239eaa4f48b52538cdaa8db8ff",
       "version_major": 2,
       "version_minor": 0
      },
      "text/plain": [
       "  0%|          | 0/40 [00:00<?, ?it/s]"
      ]
     },
     "metadata": {},
     "output_type": "display_data"
    },
    {
     "name": "stdout",
     "output_type": "stream",
     "text": [
      "nDCG@20 = 0.3057503378778669\n",
      "19:29:52 factors: 70, regularization: 0.5, Iterations: 40  [2/2]\n"
     ]
    },
    {
     "data": {
      "application/vnd.jupyter.widget-view+json": {
       "model_id": "21caa9a4ed61472d8f463a47a5568a32",
       "version_major": 2,
       "version_minor": 0
      },
      "text/plain": [
       "  0%|          | 0/40 [00:00<?, ?it/s]"
      ]
     },
     "metadata": {},
     "output_type": "display_data"
    },
    {
     "name": "stdout",
     "output_type": "stream",
     "text": [
      "nDCG@20 = 0.3161372032872422\n",
      "Среднее nDCG@20 по фолдам = 0.3109437705825545\n",
      "19:35:10 factors: 40, regularization: 0.7, Iterations: 40  [1/2]\n"
     ]
    },
    {
     "data": {
      "application/vnd.jupyter.widget-view+json": {
       "model_id": "f3a5f0a2d3b94828b0a3beacade8ecbd",
       "version_major": 2,
       "version_minor": 0
      },
      "text/plain": [
       "  0%|          | 0/40 [00:00<?, ?it/s]"
      ]
     },
     "metadata": {},
     "output_type": "display_data"
    },
    {
     "name": "stdout",
     "output_type": "stream",
     "text": [
      "nDCG@20 = 0.32072531350083605\n",
      "19:39:21 factors: 40, regularization: 0.7, Iterations: 40  [2/2]\n"
     ]
    },
    {
     "data": {
      "application/vnd.jupyter.widget-view+json": {
       "model_id": "4da5acd3b77849d19fa7867392d6fa4f",
       "version_major": 2,
       "version_minor": 0
      },
      "text/plain": [
       "  0%|          | 0/40 [00:00<?, ?it/s]"
      ]
     },
     "metadata": {},
     "output_type": "display_data"
    },
    {
     "name": "stdout",
     "output_type": "stream",
     "text": [
      "nDCG@20 = 0.32293309183205926\n",
      "Среднее nDCG@20 по фолдам = 0.32182920266644766\n",
      "19:43:29 factors: 70, regularization: 0.7, Iterations: 40  [1/2]\n"
     ]
    },
    {
     "data": {
      "application/vnd.jupyter.widget-view+json": {
       "model_id": "2f73dbadc3424103b087f68c922be03d",
       "version_major": 2,
       "version_minor": 0
      },
      "text/plain": [
       "  0%|          | 0/40 [00:00<?, ?it/s]"
      ]
     },
     "metadata": {},
     "output_type": "display_data"
    },
    {
     "name": "stdout",
     "output_type": "stream",
     "text": [
      "nDCG@20 = 0.32423075309022525\n",
      "19:48:51 factors: 70, regularization: 0.7, Iterations: 40  [2/2]\n"
     ]
    },
    {
     "data": {
      "application/vnd.jupyter.widget-view+json": {
       "model_id": "c0690b795a144c978a353fc909ab7894",
       "version_major": 2,
       "version_minor": 0
      },
      "text/plain": [
       "  0%|          | 0/40 [00:00<?, ?it/s]"
      ]
     },
     "metadata": {},
     "output_type": "display_data"
    },
    {
     "name": "stdout",
     "output_type": "stream",
     "text": [
      "nDCG@20 = 0.3151240993914991\n",
      "Среднее nDCG@20 по фолдам = 0.31967742624086215\n",
      "Wall time: 57min 51s\n"
     ]
    }
   ],
   "source": [
    "%%time\n",
    "iterations_list = [20, 40]\n",
    "regularizations_list = [0.5, 0.7]\n",
    "factors_list = [40, 70]\n",
    "dict_score = cross_val_score(iterations_list, regularizations_list, factors_list, percent_to_test=5, data_test=data_test, folds=2)"
   ]
  },
  {
   "cell_type": "markdown",
   "id": "9aebcba9-d0ef-4105-95a5-242b32e2d965",
   "metadata": {},
   "source": [
    "Лучшие параметры: factors = 40, regularization=0.7, iterations=20"
   ]
  },
  {
   "cell_type": "code",
   "execution_count": 12,
   "id": "bac789a2-54fc-4cd5-a72a-162514d8fd2c",
   "metadata": {
    "tags": []
   },
   "outputs": [
    {
     "data": {
      "application/vnd.jupyter.widget-view+json": {
       "model_id": "cb2f5b8ae2564a2197ecb27f76c9621f",
       "version_major": 2,
       "version_minor": 0
      },
      "text/plain": [
       "  0%|          | 0/20 [00:00<?, ?it/s]"
      ]
     },
     "metadata": {},
     "output_type": "display_data"
    },
    {
     "name": "stdout",
     "output_type": "stream",
     "text": [
      "Wall time: 1min 49s\n"
     ]
    }
   ],
   "source": [
    "%%time\n",
    "model, sparse_user_item = train_ALS(data_train,\n",
    "                              factor=40, reg=0.7,\n",
    "                              iters=20,\n",
    "                              user_dict=user_dict,\n",
    "                              rand_state=0)"
   ]
  },
  {
   "cell_type": "code",
   "execution_count": 13,
   "id": "905fb194-29f0-4fb6-adfb-22c86e9ea1c5",
   "metadata": {
    "tags": []
   },
   "outputs": [
    {
     "name": "stdout",
     "output_type": "stream",
     "text": [
      "Рекомендации для 10 % пользователей посчитаны\n",
      "Рекомендации для 20 % пользователей посчитаны\n",
      "Рекомендации для 30 % пользователей посчитаны\n",
      "Рекомендации для 40 % пользователей посчитаны\n",
      "Рекомендации для 50 % пользователей посчитаны\n",
      "Рекомендации для 60 % пользователей посчитаны\n",
      "Рекомендации для 70 % пользователей посчитаны\n",
      "Рекомендации для 80 % пользователей посчитаны\n",
      "Рекомендации для 90 % пользователей посчитаны\n",
      "Рекомендации для 100 % пользователей посчитаны\n",
      "Wall time: 2min 51s\n"
     ]
    }
   ],
   "source": [
    "%%time\n",
    "ndcgs_score = test_score(model, data_train, data_test, sparse_user_item, percent_to_test=100)"
   ]
  },
  {
   "cell_type": "code",
   "execution_count": 14,
   "id": "2efe13f0-b207-45ea-901e-3b207f256518",
   "metadata": {
    "tags": []
   },
   "outputs": [
    {
     "name": "stdout",
     "output_type": "stream",
     "text": [
      "Среднее значение метрики nDCG@20 на тесте для всех пользователей: 0.42311919516785784\n"
     ]
    }
   ],
   "source": [
    "print(f'Среднее значение метрики nDCG@20 на тесте для всех пользователей: {ndcgs_score}')"
   ]
  },
  {
   "cell_type": "markdown",
   "id": "430b600a-c53d-49cb-85df-cb5571a0ab07",
   "metadata": {},
   "source": [
    "Метрика nDCG@20 на тестовой выборке составила 0.423"
   ]
  }
 ],
 "metadata": {
  "kernelspec": {
   "display_name": "Python 3 (ipykernel)",
   "language": "python",
   "name": "python3"
  },
  "language_info": {
   "codemirror_mode": {
    "name": "ipython",
    "version": 3
   },
   "file_extension": ".py",
   "mimetype": "text/x-python",
   "name": "python",
   "nbconvert_exporter": "python",
   "pygments_lexer": "ipython3",
   "version": "3.8.12"
  }
 },
 "nbformat": 4,
 "nbformat_minor": 5
}
