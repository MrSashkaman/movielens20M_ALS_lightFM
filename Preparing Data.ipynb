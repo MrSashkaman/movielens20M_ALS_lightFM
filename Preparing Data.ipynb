{
 "cells": [
  {
   "cell_type": "code",
   "execution_count": 1,
   "id": "024888cd-df2b-4289-be80-293880819616",
   "metadata": {},
   "outputs": [],
   "source": [
    "import pandas as pd\n",
    "import matplotlib.pyplot as plt\n",
    "%matplotlib inline"
   ]
  },
  {
   "cell_type": "markdown",
   "id": "2d36cd34-edcc-4be3-9940-4aa51228857f",
   "metadata": {
    "tags": []
   },
   "source": [
    "## Считывание данных"
   ]
  },
  {
   "cell_type": "code",
   "execution_count": 2,
   "id": "32d380a5-9e18-459e-864b-520213b5191f",
   "metadata": {
    "tags": []
   },
   "outputs": [
    {
     "data": {
      "text/html": [
       "<div>\n",
       "<style scoped>\n",
       "    .dataframe tbody tr th:only-of-type {\n",
       "        vertical-align: middle;\n",
       "    }\n",
       "\n",
       "    .dataframe tbody tr th {\n",
       "        vertical-align: top;\n",
       "    }\n",
       "\n",
       "    .dataframe thead th {\n",
       "        text-align: right;\n",
       "    }\n",
       "</style>\n",
       "<table border=\"1\" class=\"dataframe\">\n",
       "  <thead>\n",
       "    <tr style=\"text-align: right;\">\n",
       "      <th></th>\n",
       "      <th>userId</th>\n",
       "      <th>movieId</th>\n",
       "      <th>rating</th>\n",
       "      <th>timestamp</th>\n",
       "    </tr>\n",
       "  </thead>\n",
       "  <tbody>\n",
       "    <tr>\n",
       "      <th>0</th>\n",
       "      <td>1</td>\n",
       "      <td>924</td>\n",
       "      <td>3.5</td>\n",
       "      <td>2004-09-10 03:06:38</td>\n",
       "    </tr>\n",
       "    <tr>\n",
       "      <th>1</th>\n",
       "      <td>1</td>\n",
       "      <td>919</td>\n",
       "      <td>3.5</td>\n",
       "      <td>2004-09-10 03:07:01</td>\n",
       "    </tr>\n",
       "    <tr>\n",
       "      <th>2</th>\n",
       "      <td>1</td>\n",
       "      <td>2683</td>\n",
       "      <td>3.5</td>\n",
       "      <td>2004-09-10 03:07:30</td>\n",
       "    </tr>\n",
       "    <tr>\n",
       "      <th>3</th>\n",
       "      <td>1</td>\n",
       "      <td>1584</td>\n",
       "      <td>3.5</td>\n",
       "      <td>2004-09-10 03:07:36</td>\n",
       "    </tr>\n",
       "    <tr>\n",
       "      <th>4</th>\n",
       "      <td>1</td>\n",
       "      <td>1079</td>\n",
       "      <td>4.0</td>\n",
       "      <td>2004-09-10 03:07:45</td>\n",
       "    </tr>\n",
       "    <tr>\n",
       "      <th>...</th>\n",
       "      <td>...</td>\n",
       "      <td>...</td>\n",
       "      <td>...</td>\n",
       "      <td>...</td>\n",
       "    </tr>\n",
       "    <tr>\n",
       "      <th>20000258</th>\n",
       "      <td>138493</td>\n",
       "      <td>6534</td>\n",
       "      <td>3.0</td>\n",
       "      <td>2009-12-07 18:18:28</td>\n",
       "    </tr>\n",
       "    <tr>\n",
       "      <th>20000259</th>\n",
       "      <td>138493</td>\n",
       "      <td>53464</td>\n",
       "      <td>4.0</td>\n",
       "      <td>2009-12-07 18:18:40</td>\n",
       "    </tr>\n",
       "    <tr>\n",
       "      <th>20000260</th>\n",
       "      <td>138493</td>\n",
       "      <td>1275</td>\n",
       "      <td>3.0</td>\n",
       "      <td>2010-01-01 20:42:32</td>\n",
       "    </tr>\n",
       "    <tr>\n",
       "      <th>20000261</th>\n",
       "      <td>138493</td>\n",
       "      <td>6996</td>\n",
       "      <td>3.0</td>\n",
       "      <td>2010-01-01 20:42:35</td>\n",
       "    </tr>\n",
       "    <tr>\n",
       "      <th>20000262</th>\n",
       "      <td>138493</td>\n",
       "      <td>405</td>\n",
       "      <td>3.0</td>\n",
       "      <td>2010-01-01 20:42:52</td>\n",
       "    </tr>\n",
       "  </tbody>\n",
       "</table>\n",
       "<p>20000263 rows × 4 columns</p>\n",
       "</div>"
      ],
      "text/plain": [
       "          userId  movieId  rating            timestamp\n",
       "0              1      924     3.5  2004-09-10 03:06:38\n",
       "1              1      919     3.5  2004-09-10 03:07:01\n",
       "2              1     2683     3.5  2004-09-10 03:07:30\n",
       "3              1     1584     3.5  2004-09-10 03:07:36\n",
       "4              1     1079     4.0  2004-09-10 03:07:45\n",
       "...          ...      ...     ...                  ...\n",
       "20000258  138493     6534     3.0  2009-12-07 18:18:28\n",
       "20000259  138493    53464     4.0  2009-12-07 18:18:40\n",
       "20000260  138493     1275     3.0  2010-01-01 20:42:32\n",
       "20000261  138493     6996     3.0  2010-01-01 20:42:35\n",
       "20000262  138493      405     3.0  2010-01-01 20:42:52\n",
       "\n",
       "[20000263 rows x 4 columns]"
      ]
     },
     "execution_count": 2,
     "metadata": {},
     "output_type": "execute_result"
    }
   ],
   "source": [
    "full_data = pd.read_csv('rating.csv')\n",
    "full_data = full_data.sort_values(by=['userId','timestamp']).reset_index(drop=True)\n",
    "full_data"
   ]
  },
  {
   "cell_type": "code",
   "execution_count": 3,
   "id": "3dff12b5-fdbf-497d-a251-bdb34bf63a2a",
   "metadata": {},
   "outputs": [],
   "source": [
    "#удаляются из рассмотрения оценки тех фильмов, количество оценок которых суммарно меньше порога \n",
    "#а также пользователи, у которых в сумме меньше порога оценок\n",
    " \n",
    "def filter_data(full_data, min_cnt_marks_user=100, min_cnt_marks_movie = 10):\n",
    "    \n",
    "    cnts_movies = full_data[['movieId','rating']].groupby(by=['movieId']).size()\n",
    "    full_data = full_data[full_data.movieId.isin(cnts_movies[cnts_movies > min_cnt_marks_movie].index)]\n",
    "    cnts_users_marks = full_data[['userId']].groupby(by=['userId']).size().sort_values(ascending=False)\n",
    "    full_data = full_data[full_data.userId.isin(cnts_users_marks[cnts_users_marks > min_cnt_marks_user].index)]\n",
    "    \n",
    "    return full_data"
   ]
  },
  {
   "cell_type": "code",
   "execution_count": 4,
   "id": "0e57b2e0-0492-40c4-b0fc-a605c35ae7e3",
   "metadata": {},
   "outputs": [],
   "source": [
    "full_data = filter_data(full_data, min_cnt_marks_user=100, min_cnt_marks_movie = 10)"
   ]
  },
  {
   "cell_type": "code",
   "execution_count": 5,
   "id": "a8b8a10c-a6cd-43b0-b554-2ce57001456c",
   "metadata": {},
   "outputs": [
    {
     "name": "stdout",
     "output_type": "stream",
     "text": [
      "Всего пользователей: 51852\n",
      "Всего фильмов: 15079\n"
     ]
    }
   ],
   "source": [
    "print(f'Всего пользователей: {full_data.userId.nunique()}') # всего пользователей\n",
    "print(f'Всего фильмов: {full_data.movieId.nunique()}') #всего фильмов"
   ]
  },
  {
   "cell_type": "markdown",
   "id": "0debd185-ffa8-4f06-92f3-7c61d597a030",
   "metadata": {
    "tags": []
   },
   "source": [
    "## Вспомогательная функция"
   ]
  },
  {
   "cell_type": "code",
   "execution_count": 6,
   "id": "311bccfb-e649-4f9c-a0e9-ed531d6fa4be",
   "metadata": {},
   "outputs": [],
   "source": [
    "#вспомогательная функция для информации о тесте и трейне\n",
    "def info_train_test(data_train, data_test):\n",
    "    full_data = pd.read_csv('rating.csv')\n",
    "    \n",
    "    count_new_users = 0\n",
    "    test_unique_users = data_test.userId.unique()\n",
    "    train_unique_users = data_train.userId.unique()\n",
    "    ids_new_users = []\n",
    "\n",
    "\n",
    "    count_new_movies = 0\n",
    "    test_unique_movies = data_test.movieId.unique()\n",
    "    train_unique_movies = data_train.movieId.unique()\n",
    "    ids_new_movies = []\n",
    "\n",
    "    for movie in test_unique_movies:\n",
    "        if movie not in train_unique_movies:\n",
    "            count_new_movies += 1\n",
    "            ids_new_movies.append(movie)\n",
    "    print(f'Новых фильмов в тесте: {count_new_movies}')\n",
    "\n",
    "    print(f' Новых фильмов в тесте: {round((count_new_movies/full_data.movieId.nunique()) * 100)} % от всех')"
   ]
  },
  {
   "cell_type": "markdown",
   "id": "1a938d41-fe8a-4d07-861d-4cc2418918ca",
   "metadata": {
    "tags": []
   },
   "source": [
    "## Метрика и разбиение для валидации"
   ]
  },
  {
   "cell_type": "markdown",
   "id": "dc8b6ad4-a28a-4a04-8e29-1f178731bb8b",
   "metadata": {},
   "source": [
    "### Выбор метрики"
   ]
  },
  {
   "cell_type": "markdown",
   "id": "7fe771c7-b594-401f-932b-0e11c3ef4f7b",
   "metadata": {},
   "source": [
    "Метрика, по которой будет оцениваться модель должна отвечать запросам бизнеса, так как в задаче нет конкретных бизнес-требований, то остается предположить какие задачи будущая рекомендательная система должна решать. Если предполагать, что задача заключается в том, чтобы пользователь заходя на сервис, не тратил много времени в поисках фильма для просмотра и не покинул сервис, а сразу же получал в рекомендации фильм, который он захочет посмотреть, то рекомендации должны быть наиболее релевантны и в первую очередь предлагаться должны наиболее подходящие фильмы. Для оценки релевантности рекомендаций в качестве метрики для модели, я считаю целесообразным выбрать nDCG@k, эта метрика позволяет оценить релевантность рекомендаций, который получает пользователь, а также учитывает позиции релевантных объектов. Для того, чтобы рассчитывать данную метрику можно использовать следующую стратегию разбиения на train/test: для каждого пользователя выбрать N случайных фильмов, которым он поставил оценку, все остальные фильмы отправить в трейн. таким образом для каждого пользователя будет сформирован список из N фильмов, которые будут считаться релевантными. Затем после составления рекомендаций для каждого пользователя из M фильмов, отметить как 0 нерелевантные фильмы и как 1-релевантные, получим список типа [0, 1, 0, 0, 0, ... ] и после этого рассчитывается метрика nDCG@M для каждого пользователя, затем усредняется по всем пользователям."
   ]
  },
  {
   "cell_type": "markdown",
   "id": "9811e0be-f85e-408e-b1ac-3eb4b2cf19c9",
   "metadata": {
    "tags": []
   },
   "source": [
    "### Разбиение на train/test"
   ]
  },
  {
   "cell_type": "markdown",
   "id": "0a62ae06-48ce-4058-9911-e4918a8c8684",
   "metadata": {},
   "source": [
    "Для разбивки на трейн/тест берутся 30 случайных оценок фильмов каждого пользователя. Используя такую разбивку, по сути, мы делаем вид, что пользователи поставили эти 30 оценок после самой последней оценки трейна и если предположить, что вкусы пользователей не меняется, то небольшое заглядывание в будущее (имется в виду тот факт, что оценка фильму в тесте могла быть поставлена раньше других оценок в трейне, то есть на тот момент были еще неизвестны оценки, на основании которых в конечном итоге строится рекомендация) не является критичным."
   ]
  },
  {
   "cell_type": "code",
   "execution_count": 7,
   "id": "c33fe264-e45a-4ff1-9729-db199c211ac7",
   "metadata": {},
   "outputs": [
    {
     "data": {
      "text/html": [
       "<div>\n",
       "<style scoped>\n",
       "    .dataframe tbody tr th:only-of-type {\n",
       "        vertical-align: middle;\n",
       "    }\n",
       "\n",
       "    .dataframe tbody tr th {\n",
       "        vertical-align: top;\n",
       "    }\n",
       "\n",
       "    .dataframe thead th {\n",
       "        text-align: right;\n",
       "    }\n",
       "</style>\n",
       "<table border=\"1\" class=\"dataframe\">\n",
       "  <thead>\n",
       "    <tr style=\"text-align: right;\">\n",
       "      <th></th>\n",
       "      <th>userId</th>\n",
       "      <th>movieId</th>\n",
       "      <th>rating</th>\n",
       "      <th>timestamp</th>\n",
       "    </tr>\n",
       "  </thead>\n",
       "  <tbody>\n",
       "    <tr>\n",
       "      <th>93</th>\n",
       "      <td>1</td>\n",
       "      <td>4011</td>\n",
       "      <td>4.0</td>\n",
       "      <td>2005-04-02 23:43:26</td>\n",
       "    </tr>\n",
       "    <tr>\n",
       "      <th>114</th>\n",
       "      <td>1</td>\n",
       "      <td>8368</td>\n",
       "      <td>4.0</td>\n",
       "      <td>2005-04-02 23:48:08</td>\n",
       "    </tr>\n",
       "    <tr>\n",
       "      <th>19</th>\n",
       "      <td>1</td>\n",
       "      <td>1219</td>\n",
       "      <td>4.0</td>\n",
       "      <td>2004-09-10 03:13:14</td>\n",
       "    </tr>\n",
       "    <tr>\n",
       "      <th>69</th>\n",
       "      <td>1</td>\n",
       "      <td>1262</td>\n",
       "      <td>3.5</td>\n",
       "      <td>2005-04-02 23:32:15</td>\n",
       "    </tr>\n",
       "    <tr>\n",
       "      <th>53</th>\n",
       "      <td>1</td>\n",
       "      <td>50</td>\n",
       "      <td>3.5</td>\n",
       "      <td>2005-04-02 23:29:40</td>\n",
       "    </tr>\n",
       "    <tr>\n",
       "      <th>...</th>\n",
       "      <td>...</td>\n",
       "      <td>...</td>\n",
       "      <td>...</td>\n",
       "      <td>...</td>\n",
       "    </tr>\n",
       "    <tr>\n",
       "      <th>20000190</th>\n",
       "      <td>138493</td>\n",
       "      <td>8605</td>\n",
       "      <td>4.5</td>\n",
       "      <td>2009-11-09 16:52:04</td>\n",
       "    </tr>\n",
       "    <tr>\n",
       "      <th>20000074</th>\n",
       "      <td>138493</td>\n",
       "      <td>1407</td>\n",
       "      <td>3.5</td>\n",
       "      <td>2009-10-17 22:08:43</td>\n",
       "    </tr>\n",
       "    <tr>\n",
       "      <th>20000168</th>\n",
       "      <td>138493</td>\n",
       "      <td>594</td>\n",
       "      <td>4.0</td>\n",
       "      <td>2009-10-28 17:21:35</td>\n",
       "    </tr>\n",
       "    <tr>\n",
       "      <th>20000152</th>\n",
       "      <td>138493</td>\n",
       "      <td>50872</td>\n",
       "      <td>3.5</td>\n",
       "      <td>2009-10-28 17:19:48</td>\n",
       "    </tr>\n",
       "    <tr>\n",
       "      <th>19999964</th>\n",
       "      <td>138493</td>\n",
       "      <td>2571</td>\n",
       "      <td>4.5</td>\n",
       "      <td>2009-10-17 20:05:22</td>\n",
       "    </tr>\n",
       "  </tbody>\n",
       "</table>\n",
       "<p>1555560 rows × 4 columns</p>\n",
       "</div>"
      ],
      "text/plain": [
       "          userId  movieId  rating            timestamp\n",
       "93             1     4011     4.0  2005-04-02 23:43:26\n",
       "114            1     8368     4.0  2005-04-02 23:48:08\n",
       "19             1     1219     4.0  2004-09-10 03:13:14\n",
       "69             1     1262     3.5  2005-04-02 23:32:15\n",
       "53             1       50     3.5  2005-04-02 23:29:40\n",
       "...          ...      ...     ...                  ...\n",
       "20000190  138493     8605     4.5  2009-11-09 16:52:04\n",
       "20000074  138493     1407     3.5  2009-10-17 22:08:43\n",
       "20000168  138493      594     4.0  2009-10-28 17:21:35\n",
       "20000152  138493    50872     3.5  2009-10-28 17:19:48\n",
       "19999964  138493     2571     4.5  2009-10-17 20:05:22\n",
       "\n",
       "[1555560 rows x 4 columns]"
      ]
     },
     "execution_count": 7,
     "metadata": {},
     "output_type": "execute_result"
    }
   ],
   "source": [
    "data_test = full_data.groupby(by='userId').sample(n=30, random_state=1)\n",
    "data_test"
   ]
  },
  {
   "cell_type": "code",
   "execution_count": 8,
   "id": "ed66509f-3044-495b-9f5c-36520c96f969",
   "metadata": {
    "tags": []
   },
   "outputs": [],
   "source": [
    "data_train = full_data.merge(data_test, how='left', on=['timestamp', 'userId','movieId'])\n",
    "data_train = data_train[(data_train.rating_x > 0) \n",
    "                        & ((data_train.rating_y > 0)==False)].drop(['rating_y'], axis=1).rename(columns={'rating_x':'rating'})"
   ]
  },
  {
   "cell_type": "code",
   "execution_count": 9,
   "id": "8780ab6d-980d-443d-97fb-c54886e0846b",
   "metadata": {},
   "outputs": [],
   "source": [
    "data_test.to_csv('rand_test_30.csv', sep=',', index=False)\n",
    "data_train.to_csv('rand_train_30.csv', sep=',', index=False)"
   ]
  },
  {
   "cell_type": "raw",
   "id": "3f4961f4-4bfd-4515-8a0a-39cb7f449e91",
   "metadata": {},
   "source": [
    "info_train_test(data_train, data_test)"
   ]
  }
 ],
 "metadata": {
  "kernelspec": {
   "display_name": "Python 3 (ipykernel)",
   "language": "python",
   "name": "python3"
  },
  "language_info": {
   "codemirror_mode": {
    "name": "ipython",
    "version": 3
   },
   "file_extension": ".py",
   "mimetype": "text/x-python",
   "name": "python",
   "nbconvert_exporter": "python",
   "pygments_lexer": "ipython3",
   "version": "3.8.12"
  }
 },
 "nbformat": 4,
 "nbformat_minor": 5
}
